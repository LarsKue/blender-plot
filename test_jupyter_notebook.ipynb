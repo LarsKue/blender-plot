{
 "cells": [
  {
   "cell_type": "code",
   "execution_count": 3,
   "metadata": {
    "tags": []
   },
   "outputs": [],
   "source": [
    "import numpy as np\n",
    "import matplotlib.pyplot as plt\n",
    "import blenderplot as bp"
   ]
  },
  {
   "cell_type": "code",
   "execution_count": 4,
   "metadata": {},
   "outputs": [
    {
     "data": {
      "text/plain": [
       "<matplotlib.collections.PathCollection at 0x7fd928a3d1e0>"
      ]
     },
     "execution_count": 4,
     "metadata": {},
     "output_type": "execute_result"
    },
    {
     "data": {
      "image/png": "[encoded data removed]",
      "text/plain": [
       "<Figure size 640x480 with 1 Axes>"
      ]
     },
     "metadata": {},
     "output_type": "display_data"
    }
   ],
   "source": [
    "data = np.random.standard_normal((128, 3))\n",
    "plt.scatter(data[:, 0], data[:, 1])"
   ]
  },
  {
   "cell_type": "code",
   "execution_count": 5,
   "metadata": {},
   "outputs": [],
   "source": [
    "plot = bp.RenderPlot()\n",
    "plot.scatter(data)"
   ]
  },
  {
   "cell_type": "code",
   "execution_count": 6,
   "metadata": {},
   "outputs": [
    {
     "name": "stdout",
     "output_type": "stream",
     "text": [
      "Fra:1 Mem:12.51M (Peak 12.53M) | Time:00:00.03 | Mem:0.00M, Peak:0.00M | Scene, ViewLayer | Synchronizing object | Cube\n",
      "Fra:1 Mem:12.51M (Peak 12.53M) | Time:00:00.03 | Mem:0.00M, Peak:0.00M | Scene, ViewLayer | Synchronizing object | mesh\n",
      "Fra:1 Mem:13.20M (Peak 13.28M) | Time:00:00.03 | Mem:0.00M, Peak:0.00M | Scene, ViewLayer | Initializing\n",
      "Fra:1 Mem:13.19M (Peak 13.28M) | Time:00:00.03 | Mem:0.00M, Peak:0.00M | Scene, ViewLayer | Waiting for render to start\n",
      "Fra:1 Mem:13.19M (Peak 13.28M) | Time:00:00.03 | Mem:0.00M, Peak:0.00M | Scene, ViewLayer | Loading render kernels (may take a few minutes the first time)\n",
      "Fra:1 Mem:13.19M (Peak 13.28M) | Time:00:00.03 | Mem:0.00M, Peak:0.00M | Scene, ViewLayer | Updating Scene\n",
      "Fra:1 Mem:13.19M (Peak 13.28M) | Time:00:00.03 | Mem:0.00M, Peak:0.00M | Scene, ViewLayer | Updating Shaders\n",
      "Fra:1 Mem:13.70M (Peak 13.70M) | Time:00:00.04 | Mem:0.00M, Peak:0.00M | Scene, ViewLayer | Updating Procedurals\n",
      "Fra:1 Mem:13.70M (Peak 13.70M) | Time:00:00.04 | Mem:0.00M, Peak:0.00M | Scene, ViewLayer | Updating Background\n",
      "Fra:1 Mem:13.70M (Peak 13.70M) | Time:00:00.04 | Mem:0.00M, Peak:0.00M | Scene, ViewLayer | Updating Camera\n",
      "Fra:1 Mem:13.70M (Peak 13.70M) | Time:00:00.04 | Mem:0.00M, Peak:0.00M | Scene, ViewLayer | Updating Meshes Flags\n",
      "Fra:1 Mem:13.70M (Peak 13.70M) | Time:00:00.04 | Mem:0.00M, Peak:0.00M | Scene, ViewLayer | Updating Objects\n",
      "Fra:1 Mem:13.70M (Peak 13.70M) | Time:00:00.04 | Mem:0.00M, Peak:0.00M | Scene, ViewLayer | Updating Objects | Copying Transformations to device\n",
      "Fra:1 Mem:13.70M (Peak 13.70M) | Time:00:00.04 | Mem:0.00M, Peak:0.00M | Scene, ViewLayer | Updating Objects | Applying Static Transformations\n",
      "Fra:1 Mem:13.70M (Peak 13.70M) | Time:00:00.04 | Mem:0.00M, Peak:0.00M | Scene, ViewLayer | Updating Particle Systems\n",
      "Fra:1 Mem:13.70M (Peak 13.70M) | Time:00:00.04 | Mem:0.00M, Peak:0.00M | Scene, ViewLayer | Updating Particle Systems | Copying Particles to device\n",
      "Fra:1 Mem:13.70M (Peak 13.70M) | Time:00:00.04 | Mem:0.00M, Peak:0.00M | Scene, ViewLayer | Updating Meshes\n",
      "Fra:1 Mem:13.85M (Peak 13.85M) | Time:00:00.04 | Mem:0.00M, Peak:0.00M | Scene, ViewLayer | Updating Mesh | Computing attributes\n",
      "Fra:1 Mem:13.85M (Peak 13.85M) | Time:00:00.04 | Mem:0.00M, Peak:0.00M | Scene, ViewLayer | Updating Mesh | Copying Attributes to device\n",
      "Fra:1 Mem:13.85M (Peak 13.85M) | Time:00:00.04 | Mem:0.00M, Peak:0.00M | Scene, ViewLayer | Updating Scene BVH | Building\n",
      "Fra:1 Mem:13.85M (Peak 13.85M) | Time:00:00.04 | Mem:0.00M, Peak:0.00M | Scene, ViewLayer | Updating Scene BVH | Building BVH\n",
      "Fra:1 Mem:13.85M (Peak 13.85M) | Time:00:00.04 | Mem:0.68M, Peak:0.68M | Scene, ViewLayer | Updating Scene BVH | Building BVH 0%\n",
      "Fra:1 Mem:13.85M (Peak 13.85M) | Time:00:00.04 | Mem:0.87M, Peak:1.37M | Scene, ViewLayer | Updating Scene BVH | Copying BVH to device\n",
      "Fra:1 Mem:13.85M (Peak 13.85M) | Time:00:00.04 | Mem:0.87M, Peak:1.37M | Scene, ViewLayer | Updating Mesh | Computing normals\n",
      "Fra:1 Mem:14.54M (Peak 14.54M) | Time:00:00.04 | Mem:0.87M, Peak:1.37M | Scene, ViewLayer | Updating Mesh | Copying Mesh to device\n",
      "Fra:1 Mem:14.54M (Peak 14.54M) | Time:00:00.04 | Mem:1.56M, Peak:1.56M | Scene, ViewLayer | Updating Objects Flags\n",
      "Fra:1 Mem:14.54M (Peak 14.54M) | Time:00:00.04 | Mem:1.56M, Peak:1.56M | Scene, ViewLayer | Updating Primitive Offsets\n",
      "Fra:1 Mem:14.54M (Peak 14.54M) | Time:00:00.04 | Mem:1.56M, Peak:1.56M | Scene, ViewLayer | Updating Images\n",
      "Fra:1 Mem:14.54M (Peak 14.54M) | Time:00:00.04 | Mem:1.56M, Peak:1.56M | Scene, ViewLayer | Updating Camera Volume\n",
      "Fra:1 Mem:14.54M (Peak 14.54M) | Time:00:00.04 | Mem:1.56M, Peak:1.56M | Scene, ViewLayer | Updating Lookup Tables\n",
      "Fra:1 Mem:14.54M (Peak 14.54M) | Time:00:00.04 | Mem:1.81M, Peak:1.81M | Scene, ViewLayer | Updating Lights\n",
      "Fra:1 Mem:14.54M (Peak 14.54M) | Time:00:00.04 | Mem:1.81M, Peak:1.81M | Scene, ViewLayer | Updating Lights | Computing distribution\n",
      "Fra:1 Mem:14.54M (Peak 14.54M) | Time:00:00.04 | Mem:1.81M, Peak:1.81M | Scene, ViewLayer | Updating Integrator\n",
      "Fra:1 Mem:15.04M (Peak 15.04M) | Time:00:00.04 | Mem:2.31M, Peak:2.31M | Scene, ViewLayer | Updating Film\n",
      "Fra:1 Mem:15.05M (Peak 15.30M) | Time:00:00.04 | Mem:2.06M, Peak:2.31M | Scene, ViewLayer | Updating Lookup Tables\n",
      "Fra:1 Mem:15.05M (Peak 15.30M) | Time:00:00.04 | Mem:2.31M, Peak:2.31M | Scene, ViewLayer | Updating Baking\n",
      "Fra:1 Mem:15.05M (Peak 15.30M) | Time:00:00.04 | Mem:2.31M, Peak:2.31M | Scene, ViewLayer | Updating Device | Writing constant memory\n",
      "Fra:1 Mem:15.05M (Peak 15.30M) | Time:00:00.04 | Mem:2.31M, Peak:2.31M | Scene, ViewLayer | Sample 0/16\n",
      "Fra:1 Mem:49.88M (Peak 49.89M) | Time:00:00.07 | Remaining:00:00.34 | Mem:37.10M, Peak:37.10M | Scene, ViewLayer | Sample 1/16\n",
      "Fra:1 Mem:64.53M (Peak 86.51M) | Time:00:00.84 | Mem:37.10M, Peak:37.10M | Scene, ViewLayer | Sample 16/16\n",
      "Fra:1 Mem:64.53M (Peak 86.51M) | Time:00:00.84 | Mem:37.10M, Peak:37.10M | Scene, ViewLayer | Finished\n",
      "Saved: '/home/lars/code/python/blender-plot/render.png'\n",
      " Time: 00:00.97 (Saving: 00:00.13)\n",
      "\n"
     ]
    }
   ],
   "source": [
    "plot.render()"
   ]
  },
  {
   "cell_type": "code",
   "execution_count": null,
   "metadata": {},
   "outputs": [],
   "source": []
  }
 ],
 "metadata": {
  "kernelspec": {
   "display_name": "Python 3 (ipykernel)",
   "language": "python",
   "name": "python3"
  },
  "language_info": {
   "codemirror_mode": {
    "name": "ipython",
    "version": 3
   },
   "file_extension": ".py",
   "mimetype": "text/x-python",
   "name": "python",
   "nbconvert_exporter": "python",
   "pygments_lexer": "ipython3",
   "version": "3.10.2"
  }
 },
 "nbformat": 4,
 "nbformat_minor": 4
}
